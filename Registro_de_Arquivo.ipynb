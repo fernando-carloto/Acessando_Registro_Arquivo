{
  "nbformat": 4,
  "nbformat_minor": 0,
  "metadata": {
    "colab": {
      "provenance": [],
      "authorship_tag": "ABX9TyP2hK5NNZzDzjvA6442lTlr",
      "include_colab_link": true
    },
    "kernelspec": {
      "name": "python3",
      "display_name": "Python 3"
    },
    "language_info": {
      "name": "python"
    }
  },
  "cells": [
    {
      "cell_type": "markdown",
      "metadata": {
        "id": "view-in-github",
        "colab_type": "text"
      },
      "source": [
        "<a href=\"https://colab.research.google.com/github/fernando-carloto/Acessando_Registro_Arquivo/blob/main/Registro_de_Arquivo.ipynb\" target=\"_parent\"><img src=\"https://colab.research.google.com/assets/colab-badge.svg\" alt=\"Open In Colab\"/></a>"
      ]
    },
    {
      "cell_type": "code",
      "execution_count": 8,
      "metadata": {
        "id": "P8sdMuJhQHoE"
      },
      "outputs": [],
      "source": [
        "import time\n",
        "\n",
        "def openLog(nomearq, modo = 'r'):\n",
        "  '''abre arquivo nomearq em certo modo e retorna referência ao arquivo aberto; registra o acesso ao arquivo em log.txt'''\n",
        "  arqEntrada = open(nomearq, modo)\n",
        "\n",
        "  #obtém hora atual\n",
        "  now = time.localtime()\n",
        "  nowFormat = time.strftime('%A %b%d%y %I:%M %p', now)\n",
        "\n",
        "  # abre arquivo log.txt no modo de acréscimo e acresecenta log\n",
        "  arqSaída = open('log.txt', 'a')\n",
        "  log = '{}: Arquivo {} aberto.\\n'\n",
        "  arqSaída.write(log.format(nowFormat, nomearq))\n",
        "  arqSaída.close()\n",
        "\n",
        "  print('Registro Realizado')\n",
        "\n",
        "  return arqEntrada"
      ]
    },
    {
      "cell_type": "code",
      "source": [
        "openLog('/content/drive/My Drive/Colab Notebooks/teste.txt')"
      ],
      "metadata": {
        "colab": {
          "base_uri": "https://localhost:8080/"
        },
        "id": "OyT-aTC8InyN",
        "outputId": "bc7c7cf5-e20b-4221-a419-84e324751d3f"
      },
      "execution_count": 16,
      "outputs": [
        {
          "output_type": "stream",
          "name": "stdout",
          "text": [
            "Registro Realizado\n"
          ]
        },
        {
          "output_type": "execute_result",
          "data": {
            "text/plain": [
              "<_io.TextIOWrapper name='/content/drive/My Drive/Colab Notebooks/teste.txt' mode='r' encoding='utf-8'>"
            ]
          },
          "metadata": {},
          "execution_count": 16
        }
      ]
    }
  ]
}